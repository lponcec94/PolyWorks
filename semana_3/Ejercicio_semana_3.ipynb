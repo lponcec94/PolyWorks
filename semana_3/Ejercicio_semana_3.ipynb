{
  "nbformat": 4,
  "nbformat_minor": 0,
  "metadata": {
    "colab": {
      "name": "Ejercicio_semana_3.ipynb",
      "provenance": [],
      "collapsed_sections": [],
      "authorship_tag": "ABX9TyM1KHjbcmd2NvbWxpLjDp6u",
      "include_colab_link": true
    },
    "kernelspec": {
      "name": "python3",
      "display_name": "Python 3"
    },
    "language_info": {
      "name": "python"
    }
  },
  "cells": [
    {
      "cell_type": "markdown",
      "metadata": {
        "id": "view-in-github",
        "colab_type": "text"
      },
      "source": [
        "<a href=\"https://colab.research.google.com/github/lponcec94/PolyWorks/blob/main/semana_3/Ejercicio_semana_3.ipynb\" target=\"_parent\"><img src=\"https://colab.research.google.com/assets/colab-badge.svg\" alt=\"Open In Colab\"/></a>"
      ]
    },
    {
      "cell_type": "code",
      "metadata": {
        "colab": {
          "base_uri": "https://localhost:8080/",
          "height": 779
        },
        "id": "ZqNgBNlrXp8M",
        "outputId": "b5f62950-1d47-4441-b3bb-49dad89e4a50"
      },
      "source": [
        "# pip install k-means-constrained"
      ],
      "execution_count": 2,
      "outputs": [
        {
          "output_type": "stream",
          "name": "stdout",
          "text": [
            "Collecting k-means-constrained\n",
            "  Downloading k-means-constrained-0.6.0.tar.gz (557 kB)\n",
            "\u001b[?25l\r\u001b[K     |▋                               | 10 kB 21.5 MB/s eta 0:00:01\r\u001b[K     |█▏                              | 20 kB 26.3 MB/s eta 0:00:01\r\u001b[K     |█▊                              | 30 kB 26.2 MB/s eta 0:00:01\r\u001b[K     |██▍                             | 40 kB 20.1 MB/s eta 0:00:01\r\u001b[K     |███                             | 51 kB 11.5 MB/s eta 0:00:01\r\u001b[K     |███▌                            | 61 kB 11.7 MB/s eta 0:00:01\r\u001b[K     |████▏                           | 71 kB 10.5 MB/s eta 0:00:01\r\u001b[K     |████▊                           | 81 kB 11.5 MB/s eta 0:00:01\r\u001b[K     |█████▎                          | 92 kB 9.2 MB/s eta 0:00:01\r\u001b[K     |█████▉                          | 102 kB 10.0 MB/s eta 0:00:01\r\u001b[K     |██████▌                         | 112 kB 10.0 MB/s eta 0:00:01\r\u001b[K     |███████                         | 122 kB 10.0 MB/s eta 0:00:01\r\u001b[K     |███████▋                        | 133 kB 10.0 MB/s eta 0:00:01\r\u001b[K     |████████▎                       | 143 kB 10.0 MB/s eta 0:00:01\r\u001b[K     |████████▉                       | 153 kB 10.0 MB/s eta 0:00:01\r\u001b[K     |█████████▍                      | 163 kB 10.0 MB/s eta 0:00:01\r\u001b[K     |██████████                      | 174 kB 10.0 MB/s eta 0:00:01\r\u001b[K     |██████████▋                     | 184 kB 10.0 MB/s eta 0:00:01\r\u001b[K     |███████████▏                    | 194 kB 10.0 MB/s eta 0:00:01\r\u001b[K     |███████████▊                    | 204 kB 10.0 MB/s eta 0:00:01\r\u001b[K     |████████████▍                   | 215 kB 10.0 MB/s eta 0:00:01\r\u001b[K     |█████████████                   | 225 kB 10.0 MB/s eta 0:00:01\r\u001b[K     |█████████████▌                  | 235 kB 10.0 MB/s eta 0:00:01\r\u001b[K     |██████████████                  | 245 kB 10.0 MB/s eta 0:00:01\r\u001b[K     |██████████████▊                 | 256 kB 10.0 MB/s eta 0:00:01\r\u001b[K     |███████████████▎                | 266 kB 10.0 MB/s eta 0:00:01\r\u001b[K     |███████████████▉                | 276 kB 10.0 MB/s eta 0:00:01\r\u001b[K     |████████████████▌               | 286 kB 10.0 MB/s eta 0:00:01\r\u001b[K     |█████████████████               | 296 kB 10.0 MB/s eta 0:00:01\r\u001b[K     |█████████████████▋              | 307 kB 10.0 MB/s eta 0:00:01\r\u001b[K     |██████████████████▏             | 317 kB 10.0 MB/s eta 0:00:01\r\u001b[K     |██████████████████▉             | 327 kB 10.0 MB/s eta 0:00:01\r\u001b[K     |███████████████████▍            | 337 kB 10.0 MB/s eta 0:00:01\r\u001b[K     |████████████████████            | 348 kB 10.0 MB/s eta 0:00:01\r\u001b[K     |████████████████████▋           | 358 kB 10.0 MB/s eta 0:00:01\r\u001b[K     |█████████████████████▏          | 368 kB 10.0 MB/s eta 0:00:01\r\u001b[K     |█████████████████████▊          | 378 kB 10.0 MB/s eta 0:00:01\r\u001b[K     |██████████████████████▎         | 389 kB 10.0 MB/s eta 0:00:01\r\u001b[K     |███████████████████████         | 399 kB 10.0 MB/s eta 0:00:01\r\u001b[K     |███████████████████████▌        | 409 kB 10.0 MB/s eta 0:00:01\r\u001b[K     |████████████████████████        | 419 kB 10.0 MB/s eta 0:00:01\r\u001b[K     |████████████████████████▊       | 430 kB 10.0 MB/s eta 0:00:01\r\u001b[K     |█████████████████████████▎      | 440 kB 10.0 MB/s eta 0:00:01\r\u001b[K     |█████████████████████████▉      | 450 kB 10.0 MB/s eta 0:00:01\r\u001b[K     |██████████████████████████▌     | 460 kB 10.0 MB/s eta 0:00:01\r\u001b[K     |███████████████████████████     | 471 kB 10.0 MB/s eta 0:00:01\r\u001b[K     |███████████████████████████▋    | 481 kB 10.0 MB/s eta 0:00:01\r\u001b[K     |████████████████████████████▏   | 491 kB 10.0 MB/s eta 0:00:01\r\u001b[K     |████████████████████████████▉   | 501 kB 10.0 MB/s eta 0:00:01\r\u001b[K     |█████████████████████████████▍  | 512 kB 10.0 MB/s eta 0:00:01\r\u001b[K     |██████████████████████████████  | 522 kB 10.0 MB/s eta 0:00:01\r\u001b[K     |██████████████████████████████▋ | 532 kB 10.0 MB/s eta 0:00:01\r\u001b[K     |███████████████████████████████▏| 542 kB 10.0 MB/s eta 0:00:01\r\u001b[K     |███████████████████████████████▊| 552 kB 10.0 MB/s eta 0:00:01\r\u001b[K     |████████████████████████████████| 557 kB 10.0 MB/s \n",
            "\u001b[?25h  Installing build dependencies ... \u001b[?25l\u001b[?25hdone\n",
            "  Getting requirements to build wheel ... \u001b[?25l\u001b[?25hdone\n",
            "    Preparing wheel metadata ... \u001b[?25l\u001b[?25hdone\n",
            "Collecting ortools>=9.0.9048\n",
            "  Downloading ortools-9.0.9048-cp37-cp37m-manylinux1_x86_64.whl (14.4 MB)\n",
            "\u001b[K     |████████████████████████████████| 14.4 MB 98 kB/s \n",
            "\u001b[?25hCollecting scipy>=1.6.3\n",
            "  Downloading scipy-1.7.1-cp37-cp37m-manylinux_2_5_x86_64.manylinux1_x86_64.whl (28.5 MB)\n",
            "\u001b[K     |████████████████████████████████| 28.5 MB 49 kB/s \n",
            "\u001b[?25hRequirement already satisfied: six in /usr/local/lib/python3.7/dist-packages (from k-means-constrained) (1.15.0)\n",
            "Collecting numpy>=1.20.3\n",
            "  Using cached numpy-1.21.2-cp37-cp37m-manylinux_2_12_x86_64.manylinux2010_x86_64.whl (15.7 MB)\n",
            "Requirement already satisfied: joblib in /usr/local/lib/python3.7/dist-packages (from k-means-constrained) (1.0.1)\n",
            "Requirement already satisfied: protobuf>=3.15.8 in /usr/local/lib/python3.7/dist-packages (from ortools>=9.0.9048->k-means-constrained) (3.17.3)\n",
            "Requirement already satisfied: absl-py>=0.11 in /usr/local/lib/python3.7/dist-packages (from ortools>=9.0.9048->k-means-constrained) (0.12.0)\n",
            "Building wheels for collected packages: k-means-constrained\n",
            "  Building wheel for k-means-constrained (PEP 517) ... \u001b[?25l\u001b[?25hdone\n",
            "  Created wheel for k-means-constrained: filename=k_means_constrained-0.6.0-cp37-cp37m-linux_x86_64.whl size=1410468 sha256=8d77bf717134fd777b071b1c9740c587363cb819ec06bcc57062b5dfbeb1f0e0\n",
            "  Stored in directory: /root/.cache/pip/wheels/c1/71/49/3c504743f39dc4f94af42a1f4fa1ea8a9709c35101402bcd4f\n",
            "Successfully built k-means-constrained\n",
            "Installing collected packages: numpy, scipy, ortools, k-means-constrained\n",
            "  Attempting uninstall: numpy\n",
            "    Found existing installation: numpy 1.19.5\n",
            "    Uninstalling numpy-1.19.5:\n",
            "      Successfully uninstalled numpy-1.19.5\n",
            "  Attempting uninstall: scipy\n",
            "    Found existing installation: scipy 1.4.1\n",
            "    Uninstalling scipy-1.4.1:\n",
            "      Successfully uninstalled scipy-1.4.1\n",
            "\u001b[31mERROR: pip's dependency resolver does not currently take into account all the packages that are installed. This behaviour is the source of the following dependency conflicts.\n",
            "tensorflow 2.6.0 requires numpy~=1.19.2, but you have numpy 1.21.2 which is incompatible.\n",
            "datascience 0.10.6 requires folium==0.2.1, but you have folium 0.8.3 which is incompatible.\n",
            "albumentations 0.1.12 requires imgaug<0.2.7,>=0.2.5, but you have imgaug 0.2.9 which is incompatible.\u001b[0m\n",
            "Successfully installed k-means-constrained-0.6.0 numpy-1.21.2 ortools-9.0.9048 scipy-1.7.1\n"
          ]
        },
        {
          "output_type": "display_data",
          "data": {
            "application/vnd.colab-display-data+json": {
              "pip_warning": {
                "packages": [
                  "numpy"
                ]
              }
            }
          },
          "metadata": {}
        }
      ]
    },
    {
      "cell_type": "code",
      "metadata": {
        "id": "YGiZ00ky9sfT",
        "colab": {
          "base_uri": "https://localhost:8080/"
        },
        "outputId": "c0002ae9-0ac9-4b36-8d8a-69ccce2a8120"
      },
      "source": [
        "import numpy as np \n",
        "import pandas as pd\n",
        "\n",
        "import matplotlib.pyplot as plt\n",
        "import seaborn as sns\n",
        "\n",
        "from sklearn.preprocessing import StandardScaler, MinMaxScaler\n",
        "from sklearn.decomposition import PCA\n",
        "from sklearn.cluster import KMeans\n",
        "from sklearn.metrics import silhouette_score\n",
        "\n",
        "from k_means_constrained import KMeansConstrained\n",
        "\n",
        "from yellowbrick.cluster import KElbowVisualizer"
      ],
      "execution_count": 3,
      "outputs": [
        {
          "output_type": "stream",
          "name": "stderr",
          "text": [
            "/usr/local/lib/python3.7/dist-packages/sklearn/utils/deprecation.py:144: FutureWarning: The sklearn.metrics.classification module is  deprecated in version 0.22 and will be removed in version 0.24. The corresponding classes / functions should instead be imported from sklearn.metrics. Anything that cannot be imported from sklearn.metrics is now part of the private API.\n",
            "  warnings.warn(message, FutureWarning)\n"
          ]
        }
      ]
    },
    {
      "cell_type": "code",
      "metadata": {
        "id": "FvQa-9Ta92od"
      },
      "source": [
        "df = pd.read_csv('https://raw.githubusercontent.com/lponcec94/PolyWorks/main/semana_3/data/employee_satisfaction_train.csv')"
      ],
      "execution_count": 31,
      "outputs": []
    },
    {
      "cell_type": "code",
      "metadata": {
        "colab": {
          "base_uri": "https://localhost:8080/",
          "height": 205
        },
        "id": "MTwRw0YC-o3m",
        "outputId": "72a4248a-da8a-4735-e1b8-ae7fd7a3f44d"
      },
      "source": [
        "df.head()"
      ],
      "execution_count": 32,
      "outputs": [
        {
          "output_type": "execute_result",
          "data": {
            "text/html": [
              "<div>\n",
              "<style scoped>\n",
              "    .dataframe tbody tr th:only-of-type {\n",
              "        vertical-align: middle;\n",
              "    }\n",
              "\n",
              "    .dataframe tbody tr th {\n",
              "        vertical-align: top;\n",
              "    }\n",
              "\n",
              "    .dataframe thead th {\n",
              "        text-align: right;\n",
              "    }\n",
              "</style>\n",
              "<table border=\"1\" class=\"dataframe\">\n",
              "  <thead>\n",
              "    <tr style=\"text-align: right;\">\n",
              "      <th></th>\n",
              "      <th>ID</th>\n",
              "      <th>Date</th>\n",
              "      <th>Temperature</th>\n",
              "      <th>Humidity</th>\n",
              "      <th>Humex</th>\n",
              "      <th>CO2</th>\n",
              "      <th>Bright</th>\n",
              "    </tr>\n",
              "  </thead>\n",
              "  <tbody>\n",
              "    <tr>\n",
              "      <th>0</th>\n",
              "      <td>0</td>\n",
              "      <td>2017-08-31 23:30:00</td>\n",
              "      <td>22.7</td>\n",
              "      <td>56.0</td>\n",
              "      <td>25.7</td>\n",
              "      <td>534.0</td>\n",
              "      <td>1.0</td>\n",
              "    </tr>\n",
              "    <tr>\n",
              "      <th>1</th>\n",
              "      <td>1</td>\n",
              "      <td>2017-09-01 00:30:00</td>\n",
              "      <td>22.8</td>\n",
              "      <td>55.0</td>\n",
              "      <td>25.7</td>\n",
              "      <td>506.0</td>\n",
              "      <td>1.0</td>\n",
              "    </tr>\n",
              "    <tr>\n",
              "      <th>2</th>\n",
              "      <td>2</td>\n",
              "      <td>2017-09-01 01:30:00</td>\n",
              "      <td>22.9</td>\n",
              "      <td>55.0</td>\n",
              "      <td>25.9</td>\n",
              "      <td>577.0</td>\n",
              "      <td>1.0</td>\n",
              "    </tr>\n",
              "    <tr>\n",
              "      <th>3</th>\n",
              "      <td>3</td>\n",
              "      <td>2017-09-01 02:30:00</td>\n",
              "      <td>23.0</td>\n",
              "      <td>55.0</td>\n",
              "      <td>26.1</td>\n",
              "      <td>630.0</td>\n",
              "      <td>1.0</td>\n",
              "    </tr>\n",
              "    <tr>\n",
              "      <th>4</th>\n",
              "      <td>4</td>\n",
              "      <td>2017-09-01 03:30:00</td>\n",
              "      <td>23.0</td>\n",
              "      <td>55.0</td>\n",
              "      <td>26.1</td>\n",
              "      <td>643.0</td>\n",
              "      <td>1.0</td>\n",
              "    </tr>\n",
              "  </tbody>\n",
              "</table>\n",
              "</div>"
            ],
            "text/plain": [
              "   ID                 Date  Temperature  Humidity  Humex    CO2  Bright\n",
              "0   0  2017-08-31 23:30:00         22.7      56.0   25.7  534.0     1.0\n",
              "1   1  2017-09-01 00:30:00         22.8      55.0   25.7  506.0     1.0\n",
              "2   2  2017-09-01 01:30:00         22.9      55.0   25.9  577.0     1.0\n",
              "3   3  2017-09-01 02:30:00         23.0      55.0   26.1  630.0     1.0\n",
              "4   4  2017-09-01 03:30:00         23.0      55.0   26.1  643.0     1.0"
            ]
          },
          "metadata": {},
          "execution_count": 32
        }
      ]
    },
    {
      "cell_type": "code",
      "metadata": {
        "colab": {
          "base_uri": "https://localhost:8080/"
        },
        "id": "AJyW897J-pf8",
        "outputId": "f637ffe5-9e52-4d0d-9482-adfc9308d326"
      },
      "source": [
        "df.info()"
      ],
      "execution_count": 33,
      "outputs": [
        {
          "output_type": "stream",
          "name": "stdout",
          "text": [
            "<class 'pandas.core.frame.DataFrame'>\n",
            "RangeIndex: 8000 entries, 0 to 7999\n",
            "Data columns (total 7 columns):\n",
            " #   Column       Non-Null Count  Dtype  \n",
            "---  ------       --------------  -----  \n",
            " 0   ID           8000 non-null   int64  \n",
            " 1   Date         8000 non-null   object \n",
            " 2   Temperature  8000 non-null   float64\n",
            " 3   Humidity     8000 non-null   float64\n",
            " 4   Humex        8000 non-null   float64\n",
            " 5   CO2          8000 non-null   float64\n",
            " 6   Bright       8000 non-null   float64\n",
            "dtypes: float64(5), int64(1), object(1)\n",
            "memory usage: 437.6+ KB\n"
          ]
        }
      ]
    },
    {
      "cell_type": "code",
      "metadata": {
        "colab": {
          "base_uri": "https://localhost:8080/"
        },
        "id": "UfchhFZQ-rSn",
        "outputId": "522de3aa-dd8f-43d4-c670-c4e104bf7d4a"
      },
      "source": [
        "df.isnull().sum()"
      ],
      "execution_count": 34,
      "outputs": [
        {
          "output_type": "execute_result",
          "data": {
            "text/plain": [
              "ID             0\n",
              "Date           0\n",
              "Temperature    0\n",
              "Humidity       0\n",
              "Humex          0\n",
              "CO2            0\n",
              "Bright         0\n",
              "dtype: int64"
            ]
          },
          "metadata": {},
          "execution_count": 34
        }
      ]
    },
    {
      "cell_type": "code",
      "metadata": {
        "id": "9c-D-umv-5NA"
      },
      "source": [
        "df['Date'] = pd.to_datetime(df['Date'])"
      ],
      "execution_count": 35,
      "outputs": []
    },
    {
      "cell_type": "code",
      "metadata": {
        "colab": {
          "base_uri": "https://localhost:8080/"
        },
        "id": "x2ye8nZeB9zM",
        "outputId": "388fad60-e31b-4cf0-9f16-e68b0a05b167"
      },
      "source": [
        "df['Date'].dtype"
      ],
      "execution_count": 36,
      "outputs": [
        {
          "output_type": "execute_result",
          "data": {
            "text/plain": [
              "dtype('<M8[ns]')"
            ]
          },
          "metadata": {},
          "execution_count": 36
        }
      ]
    },
    {
      "cell_type": "code",
      "metadata": {
        "colab": {
          "base_uri": "https://localhost:8080/",
          "height": 205
        },
        "id": "s6E0vwAgCAJi",
        "outputId": "94c6fb45-34e5-447d-ce4c-aaeb6d7fa3ef"
      },
      "source": [
        "df.head()"
      ],
      "execution_count": 37,
      "outputs": [
        {
          "output_type": "execute_result",
          "data": {
            "text/html": [
              "<div>\n",
              "<style scoped>\n",
              "    .dataframe tbody tr th:only-of-type {\n",
              "        vertical-align: middle;\n",
              "    }\n",
              "\n",
              "    .dataframe tbody tr th {\n",
              "        vertical-align: top;\n",
              "    }\n",
              "\n",
              "    .dataframe thead th {\n",
              "        text-align: right;\n",
              "    }\n",
              "</style>\n",
              "<table border=\"1\" class=\"dataframe\">\n",
              "  <thead>\n",
              "    <tr style=\"text-align: right;\">\n",
              "      <th></th>\n",
              "      <th>ID</th>\n",
              "      <th>Date</th>\n",
              "      <th>Temperature</th>\n",
              "      <th>Humidity</th>\n",
              "      <th>Humex</th>\n",
              "      <th>CO2</th>\n",
              "      <th>Bright</th>\n",
              "    </tr>\n",
              "  </thead>\n",
              "  <tbody>\n",
              "    <tr>\n",
              "      <th>0</th>\n",
              "      <td>0</td>\n",
              "      <td>2017-08-31 23:30:00</td>\n",
              "      <td>22.7</td>\n",
              "      <td>56.0</td>\n",
              "      <td>25.7</td>\n",
              "      <td>534.0</td>\n",
              "      <td>1.0</td>\n",
              "    </tr>\n",
              "    <tr>\n",
              "      <th>1</th>\n",
              "      <td>1</td>\n",
              "      <td>2017-09-01 00:30:00</td>\n",
              "      <td>22.8</td>\n",
              "      <td>55.0</td>\n",
              "      <td>25.7</td>\n",
              "      <td>506.0</td>\n",
              "      <td>1.0</td>\n",
              "    </tr>\n",
              "    <tr>\n",
              "      <th>2</th>\n",
              "      <td>2</td>\n",
              "      <td>2017-09-01 01:30:00</td>\n",
              "      <td>22.9</td>\n",
              "      <td>55.0</td>\n",
              "      <td>25.9</td>\n",
              "      <td>577.0</td>\n",
              "      <td>1.0</td>\n",
              "    </tr>\n",
              "    <tr>\n",
              "      <th>3</th>\n",
              "      <td>3</td>\n",
              "      <td>2017-09-01 02:30:00</td>\n",
              "      <td>23.0</td>\n",
              "      <td>55.0</td>\n",
              "      <td>26.1</td>\n",
              "      <td>630.0</td>\n",
              "      <td>1.0</td>\n",
              "    </tr>\n",
              "    <tr>\n",
              "      <th>4</th>\n",
              "      <td>4</td>\n",
              "      <td>2017-09-01 03:30:00</td>\n",
              "      <td>23.0</td>\n",
              "      <td>55.0</td>\n",
              "      <td>26.1</td>\n",
              "      <td>643.0</td>\n",
              "      <td>1.0</td>\n",
              "    </tr>\n",
              "  </tbody>\n",
              "</table>\n",
              "</div>"
            ],
            "text/plain": [
              "   ID                Date  Temperature  Humidity  Humex    CO2  Bright\n",
              "0   0 2017-08-31 23:30:00         22.7      56.0   25.7  534.0     1.0\n",
              "1   1 2017-09-01 00:30:00         22.8      55.0   25.7  506.0     1.0\n",
              "2   2 2017-09-01 01:30:00         22.9      55.0   25.9  577.0     1.0\n",
              "3   3 2017-09-01 02:30:00         23.0      55.0   26.1  630.0     1.0\n",
              "4   4 2017-09-01 03:30:00         23.0      55.0   26.1  643.0     1.0"
            ]
          },
          "metadata": {},
          "execution_count": 37
        }
      ]
    },
    {
      "cell_type": "code",
      "metadata": {
        "colab": {
          "base_uri": "https://localhost:8080/"
        },
        "id": "HPwzU4s3Ousr",
        "outputId": "488dfb8c-e7c2-4804-bd85-a8136d5501e5"
      },
      "source": [
        "df['Date'].dt.year"
      ],
      "execution_count": 38,
      "outputs": [
        {
          "output_type": "execute_result",
          "data": {
            "text/plain": [
              "0       2017\n",
              "1       2017\n",
              "2       2017\n",
              "3       2017\n",
              "4       2017\n",
              "        ... \n",
              "7995    2018\n",
              "7996    2018\n",
              "7997    2018\n",
              "7998    2018\n",
              "7999    2018\n",
              "Name: Date, Length: 8000, dtype: int64"
            ]
          },
          "metadata": {},
          "execution_count": 38
        }
      ]
    },
    {
      "cell_type": "code",
      "metadata": {
        "id": "gVb_Ur03CBKi"
      },
      "source": [
        "df['Month'] = df['Date'].dt.month\n",
        "df['Day'] = df['Date'].dt.day"
      ],
      "execution_count": 39,
      "outputs": []
    },
    {
      "cell_type": "code",
      "metadata": {
        "id": "a8G_Ynjwii_2"
      },
      "source": [
        "standar_scaler = StandardScaler()\n",
        "df_scale = standar_scaler.fit_transform(df.drop(columns=['ID', 'Date']))"
      ],
      "execution_count": 40,
      "outputs": []
    },
    {
      "cell_type": "code",
      "metadata": {
        "colab": {
          "base_uri": "https://localhost:8080/",
          "height": 203
        },
        "id": "Armqiu86QMMa",
        "outputId": "064c6be7-fa4b-4d71-b1d4-d4af7a941c59"
      },
      "source": [
        "df_scale = pd.DataFrame(df_scale, columns=df.columns[2:])\n",
        "df_scale.head()"
      ],
      "execution_count": 41,
      "outputs": [
        {
          "output_type": "execute_result",
          "data": {
            "text/html": [
              "<div>\n",
              "<style scoped>\n",
              "    .dataframe tbody tr th:only-of-type {\n",
              "        vertical-align: middle;\n",
              "    }\n",
              "\n",
              "    .dataframe tbody tr th {\n",
              "        vertical-align: top;\n",
              "    }\n",
              "\n",
              "    .dataframe thead th {\n",
              "        text-align: right;\n",
              "    }\n",
              "</style>\n",
              "<table border=\"1\" class=\"dataframe\">\n",
              "  <thead>\n",
              "    <tr style=\"text-align: right;\">\n",
              "      <th></th>\n",
              "      <th>Temperature</th>\n",
              "      <th>Humidity</th>\n",
              "      <th>Humex</th>\n",
              "      <th>CO2</th>\n",
              "      <th>Bright</th>\n",
              "      <th>Month</th>\n",
              "      <th>Day</th>\n",
              "    </tr>\n",
              "  </thead>\n",
              "  <tbody>\n",
              "    <tr>\n",
              "      <th>0</th>\n",
              "      <td>-0.151174</td>\n",
              "      <td>2.695116</td>\n",
              "      <td>1.175429</td>\n",
              "      <td>-0.258951</td>\n",
              "      <td>-0.528247</td>\n",
              "      <td>0.027314</td>\n",
              "      <td>1.801576</td>\n",
              "    </tr>\n",
              "    <tr>\n",
              "      <th>1</th>\n",
              "      <td>-0.089558</td>\n",
              "      <td>2.573765</td>\n",
              "      <td>1.175429</td>\n",
              "      <td>-0.397135</td>\n",
              "      <td>-0.528247</td>\n",
              "      <td>0.260763</td>\n",
              "      <td>-1.654547</td>\n",
              "    </tr>\n",
              "    <tr>\n",
              "      <th>2</th>\n",
              "      <td>-0.027943</td>\n",
              "      <td>2.573765</td>\n",
              "      <td>1.252984</td>\n",
              "      <td>-0.046741</td>\n",
              "      <td>-0.528247</td>\n",
              "      <td>0.260763</td>\n",
              "      <td>-1.654547</td>\n",
              "    </tr>\n",
              "    <tr>\n",
              "      <th>3</th>\n",
              "      <td>0.033673</td>\n",
              "      <td>2.573765</td>\n",
              "      <td>1.330538</td>\n",
              "      <td>0.214821</td>\n",
              "      <td>-0.528247</td>\n",
              "      <td>0.260763</td>\n",
              "      <td>-1.654547</td>\n",
              "    </tr>\n",
              "    <tr>\n",
              "      <th>4</th>\n",
              "      <td>0.033673</td>\n",
              "      <td>2.573765</td>\n",
              "      <td>1.330538</td>\n",
              "      <td>0.278978</td>\n",
              "      <td>-0.528247</td>\n",
              "      <td>0.260763</td>\n",
              "      <td>-1.654547</td>\n",
              "    </tr>\n",
              "  </tbody>\n",
              "</table>\n",
              "</div>"
            ],
            "text/plain": [
              "   Temperature  Humidity     Humex       CO2    Bright     Month       Day\n",
              "0    -0.151174  2.695116  1.175429 -0.258951 -0.528247  0.027314  1.801576\n",
              "1    -0.089558  2.573765  1.175429 -0.397135 -0.528247  0.260763 -1.654547\n",
              "2    -0.027943  2.573765  1.252984 -0.046741 -0.528247  0.260763 -1.654547\n",
              "3     0.033673  2.573765  1.330538  0.214821 -0.528247  0.260763 -1.654547\n",
              "4     0.033673  2.573765  1.330538  0.278978 -0.528247  0.260763 -1.654547"
            ]
          },
          "metadata": {},
          "execution_count": 41
        }
      ]
    },
    {
      "cell_type": "code",
      "metadata": {
        "colab": {
          "base_uri": "https://localhost:8080/"
        },
        "id": "ha7SAkpbu8-B",
        "outputId": "17ac062c-f143-41bd-b64b-590b5f0ab26d"
      },
      "source": [
        "df_scale.shape"
      ],
      "execution_count": 69,
      "outputs": [
        {
          "output_type": "execute_result",
          "data": {
            "text/plain": [
              "(8000, 7)"
            ]
          },
          "metadata": {},
          "execution_count": 69
        }
      ]
    },
    {
      "cell_type": "code",
      "metadata": {
        "colab": {
          "base_uri": "https://localhost:8080/",
          "height": 566
        },
        "id": "FneabdVuQdVX",
        "outputId": "79772bf4-b149-4bbe-ce99-402e8001be37"
      },
      "source": [
        "pca = PCA()\n",
        "pca.fit(df_scale)\n",
        "\n",
        "plt.figure(figsize=(12, 9))\n",
        "\n",
        "plt.plot(range(1, df_scale.shape[1]+1), pca.explained_variance_ratio_ .cumsum(), marker='o', linestyle='--')\n",
        "plt.title(\"Varianza explicada por los componentes\")\n",
        "plt.xlabel(\"Numero de componentes\")\n",
        "plt.ylabel(\"Varianza Explicada Acumulada\");"
      ],
      "execution_count": 70,
      "outputs": [
        {
          "output_type": "display_data",
          "data": {
            "image/png": "[encoded data removed]",
            "text/plain": [
              "<Figure size 864x648 with 1 Axes>"
            ]
          },
          "metadata": {}
        }
      ]
    },
    {
      "cell_type": "code",
      "metadata": {
        "colab": {
          "base_uri": "https://localhost:8080/",
          "height": 203
        },
        "id": "GugOqvtCSGmi",
        "outputId": "d46ea3c0-bb99-42e0-91ad-29d405fd9f7f"
      },
      "source": [
        "pca = PCA(n_components=4)\n",
        "pca.fit(df_scale)\n",
        "\n",
        "standard_pca = pca.transform(df_scale)\n",
        "df_standard_pca = pd.DataFrame(standard_pca, \n",
        "                               columns=['C1', 'C2', 'C3', 'C4'])\n",
        "df_standard_pca.head()"
      ],
      "execution_count": 43,
      "outputs": [
        {
          "output_type": "execute_result",
          "data": {
            "text/html": [
              "<div>\n",
              "<style scoped>\n",
              "    .dataframe tbody tr th:only-of-type {\n",
              "        vertical-align: middle;\n",
              "    }\n",
              "\n",
              "    .dataframe tbody tr th {\n",
              "        vertical-align: top;\n",
              "    }\n",
              "\n",
              "    .dataframe thead th {\n",
              "        text-align: right;\n",
              "    }\n",
              "</style>\n",
              "<table border=\"1\" class=\"dataframe\">\n",
              "  <thead>\n",
              "    <tr style=\"text-align: right;\">\n",
              "      <th></th>\n",
              "      <th>C1</th>\n",
              "      <th>C2</th>\n",
              "      <th>C3</th>\n",
              "      <th>C4</th>\n",
              "    </tr>\n",
              "  </thead>\n",
              "  <tbody>\n",
              "    <tr>\n",
              "      <th>0</th>\n",
              "      <td>1.197699</td>\n",
              "      <td>-2.255221</td>\n",
              "      <td>-0.254338</td>\n",
              "      <td>2.320957</td>\n",
              "    </tr>\n",
              "    <tr>\n",
              "      <th>1</th>\n",
              "      <td>0.886511</td>\n",
              "      <td>-1.969636</td>\n",
              "      <td>-2.418718</td>\n",
              "      <td>-0.195846</td>\n",
              "    </tr>\n",
              "    <tr>\n",
              "      <th>2</th>\n",
              "      <td>1.097913</td>\n",
              "      <td>-1.801905</td>\n",
              "      <td>-2.436496</td>\n",
              "      <td>-0.203271</td>\n",
              "    </tr>\n",
              "    <tr>\n",
              "      <th>3</th>\n",
              "      <td>1.275319</td>\n",
              "      <td>-1.681737</td>\n",
              "      <td>-2.451529</td>\n",
              "      <td>-0.214230</td>\n",
              "    </tr>\n",
              "    <tr>\n",
              "      <th>4</th>\n",
              "      <td>1.299871</td>\n",
              "      <td>-1.647386</td>\n",
              "      <td>-2.453512</td>\n",
              "      <td>-0.211678</td>\n",
              "    </tr>\n",
              "  </tbody>\n",
              "</table>\n",
              "</div>"
            ],
            "text/plain": [
              "         C1        C2        C3        C4\n",
              "0  1.197699 -2.255221 -0.254338  2.320957\n",
              "1  0.886511 -1.969636 -2.418718 -0.195846\n",
              "2  1.097913 -1.801905 -2.436496 -0.203271\n",
              "3  1.275319 -1.681737 -2.451529 -0.214230\n",
              "4  1.299871 -1.647386 -2.453512 -0.211678"
            ]
          },
          "metadata": {},
          "execution_count": 43
        }
      ]
    },
    {
      "cell_type": "code",
      "metadata": {
        "id": "JbDD81CNT74d"
      },
      "source": [
        "K = range(2, 10)\n",
        "\n",
        "distortions = []\n",
        "silhouette_coef = []\n",
        "\n",
        "for k in K:\n",
        "  model = KMeans(n_clusters=k).fit(df_standard_pca)\n",
        "  distortions.append(model.inertia_)\n",
        "  score = silhouette_score(df_standard_pca, model.labels_)\n",
        "  silhouette_coef.append(score)\n"
      ],
      "execution_count": 44,
      "outputs": []
    },
    {
      "cell_type": "code",
      "metadata": {
        "colab": {
          "base_uri": "https://localhost:8080/",
          "height": 512
        },
        "id": "rEoKSdUgXK0p",
        "outputId": "0b935cd5-4811-4b97-dafc-5bc5c4c6dafc"
      },
      "source": [
        "plt.figure(figsize=(10, 8))\n",
        "plt.plot(K, distortions, 'x-')\n",
        "plt.xlabel('Number of clusters for Standar Scaler')\n",
        "plt.ylabel('Distortions')\n",
        "plt.title('Elbow Method')\n",
        "plt.show()"
      ],
      "execution_count": 45,
      "outputs": [
        {
          "output_type": "display_data",
          "data": {
            "image/png": "[encoded data removed]",
            "text/plain": [
              "<Figure size 720x576 with 1 Axes>"
            ]
          },
          "metadata": {}
        }
      ]
    },
    {
      "cell_type": "code",
      "metadata": {
        "colab": {
          "base_uri": "https://localhost:8080/",
          "height": 497
        },
        "id": "KhBmUTlrXR1B",
        "outputId": "fded2a2f-db90-4cdd-bc52-0128887ad526"
      },
      "source": [
        "plt.figure(figsize=(10, 8))\n",
        "plt.plot(range(2, 10), silhouette_coef)\n",
        "plt.xticks(range(2, 10))\n",
        "plt.xlabel('Number of Clusters')\n",
        "plt.ylabel('Silhouette Coefficient')\n",
        "plt.show()"
      ],
      "execution_count": 46,
      "outputs": [
        {
          "output_type": "display_data",
          "data": {
            "image/png": "[encoded data removed]",
            "text/plain": [
              "<Figure size 720x576 with 1 Axes>"
            ]
          },
          "metadata": {}
        }
      ]
    },
    {
      "cell_type": "code",
      "metadata": {
        "colab": {
          "base_uri": "https://localhost:8080/"
        },
        "id": "_BvdVti0wgdl",
        "outputId": "da9904fb-79b7-4683-9d9d-441b679cc37c"
      },
      "source": [
        "df.shape"
      ],
      "execution_count": 71,
      "outputs": [
        {
          "output_type": "execute_result",
          "data": {
            "text/plain": [
              "(8000, 9)"
            ]
          },
          "metadata": {},
          "execution_count": 71
        }
      ]
    },
    {
      "cell_type": "code",
      "metadata": {
        "colab": {
          "base_uri": "https://localhost:8080/"
        },
        "id": "SYC9Do4fwj4D",
        "outputId": "1b6dec26-9dfd-487b-c608-d6c4a080a134"
      },
      "source": [
        "8000/5"
      ],
      "execution_count": 72,
      "outputs": [
        {
          "output_type": "execute_result",
          "data": {
            "text/plain": [
              "1600.0"
            ]
          },
          "metadata": {},
          "execution_count": 72
        }
      ]
    },
    {
      "cell_type": "code",
      "metadata": {
        "id": "1VnRTgCCZW0N"
      },
      "source": [
        "model = KMeansConstrained(n_clusters=5, size_min=4,\n",
        "                          size_max=1600, random_state=42)\n",
        "predict = model.fit_predict(df_standard_pca)"
      ],
      "execution_count": 73,
      "outputs": []
    },
    {
      "cell_type": "code",
      "metadata": {
        "id": "oTsFfJUK41xc"
      },
      "source": [
        "df_2 = df.copy()"
      ],
      "execution_count": 74,
      "outputs": []
    },
    {
      "cell_type": "code",
      "metadata": {
        "id": "pDRP7U9edVxs"
      },
      "source": [
        "df_2['kmeans_constrained'] = predict"
      ],
      "execution_count": 75,
      "outputs": []
    },
    {
      "cell_type": "code",
      "metadata": {
        "colab": {
          "base_uri": "https://localhost:8080/",
          "height": 203
        },
        "id": "1g0Je8K3eIdT",
        "outputId": "2ecf34aa-7b1d-4905-a9c1-4b8e1f1abae7"
      },
      "source": [
        "df_2.head()"
      ],
      "execution_count": 76,
      "outputs": [
        {
          "output_type": "execute_result",
          "data": {
            "text/html": [
              "<div>\n",
              "<style scoped>\n",
              "    .dataframe tbody tr th:only-of-type {\n",
              "        vertical-align: middle;\n",
              "    }\n",
              "\n",
              "    .dataframe tbody tr th {\n",
              "        vertical-align: top;\n",
              "    }\n",
              "\n",
              "    .dataframe thead th {\n",
              "        text-align: right;\n",
              "    }\n",
              "</style>\n",
              "<table border=\"1\" class=\"dataframe\">\n",
              "  <thead>\n",
              "    <tr style=\"text-align: right;\">\n",
              "      <th></th>\n",
              "      <th>ID</th>\n",
              "      <th>Date</th>\n",
              "      <th>Temperature</th>\n",
              "      <th>Humidity</th>\n",
              "      <th>Humex</th>\n",
              "      <th>CO2</th>\n",
              "      <th>Bright</th>\n",
              "      <th>Month</th>\n",
              "      <th>Day</th>\n",
              "      <th>kmeans_constrained</th>\n",
              "    </tr>\n",
              "  </thead>\n",
              "  <tbody>\n",
              "    <tr>\n",
              "      <th>0</th>\n",
              "      <td>0</td>\n",
              "      <td>2017-08-31 23:30:00</td>\n",
              "      <td>22.7</td>\n",
              "      <td>56.0</td>\n",
              "      <td>25.7</td>\n",
              "      <td>534.0</td>\n",
              "      <td>1.0</td>\n",
              "      <td>8</td>\n",
              "      <td>31</td>\n",
              "      <td>2</td>\n",
              "    </tr>\n",
              "    <tr>\n",
              "      <th>1</th>\n",
              "      <td>1</td>\n",
              "      <td>2017-09-01 00:30:00</td>\n",
              "      <td>22.8</td>\n",
              "      <td>55.0</td>\n",
              "      <td>25.7</td>\n",
              "      <td>506.0</td>\n",
              "      <td>1.0</td>\n",
              "      <td>9</td>\n",
              "      <td>1</td>\n",
              "      <td>2</td>\n",
              "    </tr>\n",
              "    <tr>\n",
              "      <th>2</th>\n",
              "      <td>2</td>\n",
              "      <td>2017-09-01 01:30:00</td>\n",
              "      <td>22.9</td>\n",
              "      <td>55.0</td>\n",
              "      <td>25.9</td>\n",
              "      <td>577.0</td>\n",
              "      <td>1.0</td>\n",
              "      <td>9</td>\n",
              "      <td>1</td>\n",
              "      <td>2</td>\n",
              "    </tr>\n",
              "    <tr>\n",
              "      <th>3</th>\n",
              "      <td>3</td>\n",
              "      <td>2017-09-01 02:30:00</td>\n",
              "      <td>23.0</td>\n",
              "      <td>55.0</td>\n",
              "      <td>26.1</td>\n",
              "      <td>630.0</td>\n",
              "      <td>1.0</td>\n",
              "      <td>9</td>\n",
              "      <td>1</td>\n",
              "      <td>2</td>\n",
              "    </tr>\n",
              "    <tr>\n",
              "      <th>4</th>\n",
              "      <td>4</td>\n",
              "      <td>2017-09-01 03:30:00</td>\n",
              "      <td>23.0</td>\n",
              "      <td>55.0</td>\n",
              "      <td>26.1</td>\n",
              "      <td>643.0</td>\n",
              "      <td>1.0</td>\n",
              "      <td>9</td>\n",
              "      <td>1</td>\n",
              "      <td>2</td>\n",
              "    </tr>\n",
              "  </tbody>\n",
              "</table>\n",
              "</div>"
            ],
            "text/plain": [
              "   ID                Date  Temperature  ...  Month  Day  kmeans_constrained\n",
              "0   0 2017-08-31 23:30:00         22.7  ...      8   31                   2\n",
              "1   1 2017-09-01 00:30:00         22.8  ...      9    1                   2\n",
              "2   2 2017-09-01 01:30:00         22.9  ...      9    1                   2\n",
              "3   3 2017-09-01 02:30:00         23.0  ...      9    1                   2\n",
              "4   4 2017-09-01 03:30:00         23.0  ...      9    1                   2\n",
              "\n",
              "[5 rows x 10 columns]"
            ]
          },
          "metadata": {},
          "execution_count": 76
        }
      ]
    },
    {
      "cell_type": "code",
      "metadata": {
        "colab": {
          "base_uri": "https://localhost:8080/",
          "height": 234
        },
        "id": "bpCPPJuQeJbI",
        "outputId": "3a94a52c-4a62-4187-8034-9d2fb6dd41ad"
      },
      "source": [
        "df_2.groupby('kmeans_constrained').agg({'Month':'count'})"
      ],
      "execution_count": 77,
      "outputs": [
        {
          "output_type": "execute_result",
          "data": {
            "text/html": [
              "<div>\n",
              "<style scoped>\n",
              "    .dataframe tbody tr th:only-of-type {\n",
              "        vertical-align: middle;\n",
              "    }\n",
              "\n",
              "    .dataframe tbody tr th {\n",
              "        vertical-align: top;\n",
              "    }\n",
              "\n",
              "    .dataframe thead th {\n",
              "        text-align: right;\n",
              "    }\n",
              "</style>\n",
              "<table border=\"1\" class=\"dataframe\">\n",
              "  <thead>\n",
              "    <tr style=\"text-align: right;\">\n",
              "      <th></th>\n",
              "      <th>Month</th>\n",
              "    </tr>\n",
              "    <tr>\n",
              "      <th>kmeans_constrained</th>\n",
              "      <th></th>\n",
              "    </tr>\n",
              "  </thead>\n",
              "  <tbody>\n",
              "    <tr>\n",
              "      <th>0</th>\n",
              "      <td>1600</td>\n",
              "    </tr>\n",
              "    <tr>\n",
              "      <th>1</th>\n",
              "      <td>1600</td>\n",
              "    </tr>\n",
              "    <tr>\n",
              "      <th>2</th>\n",
              "      <td>1600</td>\n",
              "    </tr>\n",
              "    <tr>\n",
              "      <th>3</th>\n",
              "      <td>1600</td>\n",
              "    </tr>\n",
              "    <tr>\n",
              "      <th>4</th>\n",
              "      <td>1600</td>\n",
              "    </tr>\n",
              "  </tbody>\n",
              "</table>\n",
              "</div>"
            ],
            "text/plain": [
              "                    Month\n",
              "kmeans_constrained       \n",
              "0                    1600\n",
              "1                    1600\n",
              "2                    1600\n",
              "3                    1600\n",
              "4                    1600"
            ]
          },
          "metadata": {},
          "execution_count": 77
        }
      ]
    },
    {
      "cell_type": "code",
      "metadata": {
        "colab": {
          "base_uri": "https://localhost:8080/",
          "height": 265
        },
        "id": "XPBDzQBieawj",
        "outputId": "810d9aa1-0608-4130-cdae-7f4065d1d8ff"
      },
      "source": [
        "df_2.pivot_table(values=['Temperature', 'CO2'], index='kmeans_constrained'\n",
        "              # , columns='Month'\n",
        "               , aggfunc=['mean', 'median']).sort_values(('mean', 'CO2'))"
      ],
      "execution_count": 80,
      "outputs": [
        {
          "output_type": "execute_result",
          "data": {
            "text/html": [
              "<div>\n",
              "<style scoped>\n",
              "    .dataframe tbody tr th:only-of-type {\n",
              "        vertical-align: middle;\n",
              "    }\n",
              "\n",
              "    .dataframe tbody tr th {\n",
              "        vertical-align: top;\n",
              "    }\n",
              "\n",
              "    .dataframe thead tr th {\n",
              "        text-align: left;\n",
              "    }\n",
              "\n",
              "    .dataframe thead tr:last-of-type th {\n",
              "        text-align: right;\n",
              "    }\n",
              "</style>\n",
              "<table border=\"1\" class=\"dataframe\">\n",
              "  <thead>\n",
              "    <tr>\n",
              "      <th></th>\n",
              "      <th colspan=\"2\" halign=\"left\">mean</th>\n",
              "      <th colspan=\"2\" halign=\"left\">median</th>\n",
              "    </tr>\n",
              "    <tr>\n",
              "      <th></th>\n",
              "      <th>CO2</th>\n",
              "      <th>Temperature</th>\n",
              "      <th>CO2</th>\n",
              "      <th>Temperature</th>\n",
              "    </tr>\n",
              "    <tr>\n",
              "      <th>kmeans_constrained</th>\n",
              "      <th></th>\n",
              "      <th></th>\n",
              "      <th></th>\n",
              "      <th></th>\n",
              "    </tr>\n",
              "  </thead>\n",
              "  <tbody>\n",
              "    <tr>\n",
              "      <th>3</th>\n",
              "      <td>456.618750</td>\n",
              "      <td>20.427313</td>\n",
              "      <td>464.0</td>\n",
              "      <td>20.4</td>\n",
              "    </tr>\n",
              "    <tr>\n",
              "      <th>2</th>\n",
              "      <td>486.003125</td>\n",
              "      <td>23.295188</td>\n",
              "      <td>453.5</td>\n",
              "      <td>23.4</td>\n",
              "    </tr>\n",
              "    <tr>\n",
              "      <th>1</th>\n",
              "      <td>520.791875</td>\n",
              "      <td>23.407375</td>\n",
              "      <td>487.0</td>\n",
              "      <td>23.3</td>\n",
              "    </tr>\n",
              "    <tr>\n",
              "      <th>4</th>\n",
              "      <td>572.598125</td>\n",
              "      <td>23.330188</td>\n",
              "      <td>497.5</td>\n",
              "      <td>23.2</td>\n",
              "    </tr>\n",
              "    <tr>\n",
              "      <th>0</th>\n",
              "      <td>896.343125</td>\n",
              "      <td>24.266687</td>\n",
              "      <td>880.5</td>\n",
              "      <td>24.2</td>\n",
              "    </tr>\n",
              "  </tbody>\n",
              "</table>\n",
              "</div>"
            ],
            "text/plain": [
              "                          mean             median            \n",
              "                           CO2 Temperature    CO2 Temperature\n",
              "kmeans_constrained                                           \n",
              "3                   456.618750   20.427313  464.0        20.4\n",
              "2                   486.003125   23.295188  453.5        23.4\n",
              "1                   520.791875   23.407375  487.0        23.3\n",
              "4                   572.598125   23.330188  497.5        23.2\n",
              "0                   896.343125   24.266687  880.5        24.2"
            ]
          },
          "metadata": {},
          "execution_count": 80
        }
      ]
    },
    {
      "cell_type": "code",
      "metadata": {
        "id": "ugHSahQr6pg3"
      },
      "source": [
        ""
      ],
      "execution_count": null,
      "outputs": []
    },
    {
      "cell_type": "markdown",
      "metadata": {
        "id": "Z6I-nnbi6qRr"
      },
      "source": [
        "\n",
        "\n",
        "---\n",
        "\n",
        "\n",
        "\n",
        "---\n",
        "\n"
      ]
    },
    {
      "cell_type": "markdown",
      "metadata": {
        "id": "X59srKOhyrkn"
      },
      "source": [
        "### Overfitting"
      ]
    },
    {
      "cell_type": "code",
      "metadata": {
        "colab": {
          "base_uri": "https://localhost:8080/",
          "height": 203
        },
        "id": "sXXERs79yn10",
        "outputId": "b14e21cd-ea60-4883-e078-2862d0abcddc"
      },
      "source": [
        "### Overfitting \n",
        "\n",
        "pca = PCA(n_components=7)\n",
        "pca.fit(df_scale)\n",
        "\n",
        "standard_pca = pca.transform(df_scale)\n",
        "df_standard_pca = pd.DataFrame(standard_pca, \n",
        "                               columns=[f'C{i}' for i in range(1, 8)])\n",
        "df_standard_pca.head()"
      ],
      "execution_count": 49,
      "outputs": [
        {
          "output_type": "execute_result",
          "data": {
            "text/html": [
              "<div>\n",
              "<style scoped>\n",
              "    .dataframe tbody tr th:only-of-type {\n",
              "        vertical-align: middle;\n",
              "    }\n",
              "\n",
              "    .dataframe tbody tr th {\n",
              "        vertical-align: top;\n",
              "    }\n",
              "\n",
              "    .dataframe thead th {\n",
              "        text-align: right;\n",
              "    }\n",
              "</style>\n",
              "<table border=\"1\" class=\"dataframe\">\n",
              "  <thead>\n",
              "    <tr style=\"text-align: right;\">\n",
              "      <th></th>\n",
              "      <th>C1</th>\n",
              "      <th>C2</th>\n",
              "      <th>C3</th>\n",
              "      <th>C4</th>\n",
              "      <th>C5</th>\n",
              "      <th>C6</th>\n",
              "      <th>C7</th>\n",
              "    </tr>\n",
              "  </thead>\n",
              "  <tbody>\n",
              "    <tr>\n",
              "      <th>0</th>\n",
              "      <td>1.197699</td>\n",
              "      <td>-2.255221</td>\n",
              "      <td>-0.254338</td>\n",
              "      <td>2.320957</td>\n",
              "      <td>-0.153352</td>\n",
              "      <td>-0.512795</td>\n",
              "      <td>-0.046430</td>\n",
              "    </tr>\n",
              "    <tr>\n",
              "      <th>1</th>\n",
              "      <td>0.886511</td>\n",
              "      <td>-1.969636</td>\n",
              "      <td>-2.418718</td>\n",
              "      <td>-0.195846</td>\n",
              "      <td>0.751541</td>\n",
              "      <td>-0.368556</td>\n",
              "      <td>-0.040514</td>\n",
              "    </tr>\n",
              "    <tr>\n",
              "      <th>2</th>\n",
              "      <td>1.097913</td>\n",
              "      <td>-1.801905</td>\n",
              "      <td>-2.436496</td>\n",
              "      <td>-0.203271</td>\n",
              "      <td>0.696406</td>\n",
              "      <td>-0.605166</td>\n",
              "      <td>-0.021335</td>\n",
              "    </tr>\n",
              "    <tr>\n",
              "      <th>3</th>\n",
              "      <td>1.275319</td>\n",
              "      <td>-1.681737</td>\n",
              "      <td>-2.451529</td>\n",
              "      <td>-0.214230</td>\n",
              "      <td>0.644271</td>\n",
              "      <td>-0.775110</td>\n",
              "      <td>-0.002176</td>\n",
              "    </tr>\n",
              "    <tr>\n",
              "      <th>4</th>\n",
              "      <td>1.299871</td>\n",
              "      <td>-1.647386</td>\n",
              "      <td>-2.453512</td>\n",
              "      <td>-0.211678</td>\n",
              "      <td>0.642105</td>\n",
              "      <td>-0.823258</td>\n",
              "      <td>-0.002162</td>\n",
              "    </tr>\n",
              "  </tbody>\n",
              "</table>\n",
              "</div>"
            ],
            "text/plain": [
              "         C1        C2        C3        C4        C5        C6        C7\n",
              "0  1.197699 -2.255221 -0.254338  2.320957 -0.153352 -0.512795 -0.046430\n",
              "1  0.886511 -1.969636 -2.418718 -0.195846  0.751541 -0.368556 -0.040514\n",
              "2  1.097913 -1.801905 -2.436496 -0.203271  0.696406 -0.605166 -0.021335\n",
              "3  1.275319 -1.681737 -2.451529 -0.214230  0.644271 -0.775110 -0.002176\n",
              "4  1.299871 -1.647386 -2.453512 -0.211678  0.642105 -0.823258 -0.002162"
            ]
          },
          "metadata": {},
          "execution_count": 49
        }
      ]
    },
    {
      "cell_type": "code",
      "metadata": {
        "id": "H42a_JYY5v6z"
      },
      "source": [
        "K = range(2, 15)\n",
        "\n",
        "distortions = []\n",
        "silhouette_coef = []\n",
        "\n",
        "for k in K:\n",
        "  model = KMeans(n_clusters=k).fit(df_standard_pca)\n",
        "  distortions.append(model.inertia_)\n",
        "  score = silhouette_score(df_standard_pca, model.labels_)\n",
        "  silhouette_coef.append(score)"
      ],
      "execution_count": 50,
      "outputs": []
    },
    {
      "cell_type": "code",
      "metadata": {
        "colab": {
          "base_uri": "https://localhost:8080/",
          "height": 512
        },
        "id": "zYFWwx7t5zJW",
        "outputId": "e80f1754-b402-487e-b7bb-95f601e6c85f"
      },
      "source": [
        "plt.figure(figsize=(10, 8))\n",
        "plt.plot(K, distortions, 'x-')\n",
        "plt.xticks(range(2, 15))\n",
        "plt.xlabel('Number of clusters for Standar Scaler')\n",
        "plt.ylabel('Distortions')\n",
        "plt.title('Elbow Method')\n",
        "plt.show()"
      ],
      "execution_count": 53,
      "outputs": [
        {
          "output_type": "display_data",
          "data": {
            "image/png": "[encoded data removed]",
            "text/plain": [
              "<Figure size 720x576 with 1 Axes>"
            ]
          },
          "metadata": {}
        }
      ]
    },
    {
      "cell_type": "code",
      "metadata": {
        "colab": {
          "base_uri": "https://localhost:8080/",
          "height": 497
        },
        "id": "GrYqFGmh6BvV",
        "outputId": "78094c6e-80b3-4601-e51b-38ff1b0b8a42"
      },
      "source": [
        "plt.figure(figsize=(10, 8))\n",
        "plt.plot(range(2, 15), silhouette_coef)\n",
        "plt.xticks(range(2, 15))\n",
        "plt.xlabel('Number of Clusters')\n",
        "plt.ylabel('Silhouette Coefficient')\n",
        "plt.show()"
      ],
      "execution_count": 52,
      "outputs": [
        {
          "output_type": "display_data",
          "data": {
            "image/png": "[encoded data removed]",
            "text/plain": [
              "<Figure size 720x576 with 1 Axes>"
            ]
          },
          "metadata": {}
        }
      ]
    },
    {
      "cell_type": "code",
      "metadata": {
        "id": "jbH7l9Fq5W8H"
      },
      "source": [
        "model = KMeans(n_clusters=14, random_state=6)\n",
        "predict = model.fit_predict(df_standard_pca)"
      ],
      "execution_count": 83,
      "outputs": []
    },
    {
      "cell_type": "code",
      "metadata": {
        "id": "ZQccTtGA6nXQ"
      },
      "source": [
        "df_2['n_cluster_14'] = predict"
      ],
      "execution_count": 84,
      "outputs": []
    },
    {
      "cell_type": "code",
      "metadata": {
        "colab": {
          "base_uri": "https://localhost:8080/",
          "height": 203
        },
        "id": "pPeGWX106-g-",
        "outputId": "66563be7-7c8e-4316-d1e1-be61807fad1c"
      },
      "source": [
        "df_2.head()"
      ],
      "execution_count": 85,
      "outputs": [
        {
          "output_type": "execute_result",
          "data": {
            "text/html": [
              "<div>\n",
              "<style scoped>\n",
              "    .dataframe tbody tr th:only-of-type {\n",
              "        vertical-align: middle;\n",
              "    }\n",
              "\n",
              "    .dataframe tbody tr th {\n",
              "        vertical-align: top;\n",
              "    }\n",
              "\n",
              "    .dataframe thead th {\n",
              "        text-align: right;\n",
              "    }\n",
              "</style>\n",
              "<table border=\"1\" class=\"dataframe\">\n",
              "  <thead>\n",
              "    <tr style=\"text-align: right;\">\n",
              "      <th></th>\n",
              "      <th>ID</th>\n",
              "      <th>Date</th>\n",
              "      <th>Temperature</th>\n",
              "      <th>Humidity</th>\n",
              "      <th>Humex</th>\n",
              "      <th>CO2</th>\n",
              "      <th>Bright</th>\n",
              "      <th>Month</th>\n",
              "      <th>Day</th>\n",
              "      <th>kmeans_constrained</th>\n",
              "      <th>n_cluster_14</th>\n",
              "    </tr>\n",
              "  </thead>\n",
              "  <tbody>\n",
              "    <tr>\n",
              "      <th>0</th>\n",
              "      <td>0</td>\n",
              "      <td>2017-08-31 23:30:00</td>\n",
              "      <td>22.7</td>\n",
              "      <td>56.0</td>\n",
              "      <td>25.7</td>\n",
              "      <td>534.0</td>\n",
              "      <td>1.0</td>\n",
              "      <td>8</td>\n",
              "      <td>31</td>\n",
              "      <td>2</td>\n",
              "      <td>10</td>\n",
              "    </tr>\n",
              "    <tr>\n",
              "      <th>1</th>\n",
              "      <td>1</td>\n",
              "      <td>2017-09-01 00:30:00</td>\n",
              "      <td>22.8</td>\n",
              "      <td>55.0</td>\n",
              "      <td>25.7</td>\n",
              "      <td>506.0</td>\n",
              "      <td>1.0</td>\n",
              "      <td>9</td>\n",
              "      <td>1</td>\n",
              "      <td>2</td>\n",
              "      <td>4</td>\n",
              "    </tr>\n",
              "    <tr>\n",
              "      <th>2</th>\n",
              "      <td>2</td>\n",
              "      <td>2017-09-01 01:30:00</td>\n",
              "      <td>22.9</td>\n",
              "      <td>55.0</td>\n",
              "      <td>25.9</td>\n",
              "      <td>577.0</td>\n",
              "      <td>1.0</td>\n",
              "      <td>9</td>\n",
              "      <td>1</td>\n",
              "      <td>2</td>\n",
              "      <td>4</td>\n",
              "    </tr>\n",
              "    <tr>\n",
              "      <th>3</th>\n",
              "      <td>3</td>\n",
              "      <td>2017-09-01 02:30:00</td>\n",
              "      <td>23.0</td>\n",
              "      <td>55.0</td>\n",
              "      <td>26.1</td>\n",
              "      <td>630.0</td>\n",
              "      <td>1.0</td>\n",
              "      <td>9</td>\n",
              "      <td>1</td>\n",
              "      <td>2</td>\n",
              "      <td>4</td>\n",
              "    </tr>\n",
              "    <tr>\n",
              "      <th>4</th>\n",
              "      <td>4</td>\n",
              "      <td>2017-09-01 03:30:00</td>\n",
              "      <td>23.0</td>\n",
              "      <td>55.0</td>\n",
              "      <td>26.1</td>\n",
              "      <td>643.0</td>\n",
              "      <td>1.0</td>\n",
              "      <td>9</td>\n",
              "      <td>1</td>\n",
              "      <td>2</td>\n",
              "      <td>4</td>\n",
              "    </tr>\n",
              "  </tbody>\n",
              "</table>\n",
              "</div>"
            ],
            "text/plain": [
              "   ID                Date  Temperature  ...  Day  kmeans_constrained  n_cluster_14\n",
              "0   0 2017-08-31 23:30:00         22.7  ...   31                   2            10\n",
              "1   1 2017-09-01 00:30:00         22.8  ...    1                   2             4\n",
              "2   2 2017-09-01 01:30:00         22.9  ...    1                   2             4\n",
              "3   3 2017-09-01 02:30:00         23.0  ...    1                   2             4\n",
              "4   4 2017-09-01 03:30:00         23.0  ...    1                   2             4\n",
              "\n",
              "[5 rows x 11 columns]"
            ]
          },
          "metadata": {},
          "execution_count": 85
        }
      ]
    },
    {
      "cell_type": "code",
      "metadata": {
        "colab": {
          "base_uri": "https://localhost:8080/",
          "height": 265
        },
        "id": "rHnj_I1u6_4H",
        "outputId": "09620e52-9834-42dc-a539-1b8e17c38a98"
      },
      "source": [
        "df_2.pivot_table(values=['Temperature', 'CO2'], index='kmeans_constrained'\n",
        "              # , columns='Month'\n",
        "               , aggfunc=['mean', 'median']).sort_values(('mean', 'Temperature'))"
      ],
      "execution_count": 86,
      "outputs": [
        {
          "output_type": "execute_result",
          "data": {
            "text/html": [
              "<div>\n",
              "<style scoped>\n",
              "    .dataframe tbody tr th:only-of-type {\n",
              "        vertical-align: middle;\n",
              "    }\n",
              "\n",
              "    .dataframe tbody tr th {\n",
              "        vertical-align: top;\n",
              "    }\n",
              "\n",
              "    .dataframe thead tr th {\n",
              "        text-align: left;\n",
              "    }\n",
              "\n",
              "    .dataframe thead tr:last-of-type th {\n",
              "        text-align: right;\n",
              "    }\n",
              "</style>\n",
              "<table border=\"1\" class=\"dataframe\">\n",
              "  <thead>\n",
              "    <tr>\n",
              "      <th></th>\n",
              "      <th colspan=\"2\" halign=\"left\">mean</th>\n",
              "      <th colspan=\"2\" halign=\"left\">median</th>\n",
              "    </tr>\n",
              "    <tr>\n",
              "      <th></th>\n",
              "      <th>CO2</th>\n",
              "      <th>Temperature</th>\n",
              "      <th>CO2</th>\n",
              "      <th>Temperature</th>\n",
              "    </tr>\n",
              "    <tr>\n",
              "      <th>kmeans_constrained</th>\n",
              "      <th></th>\n",
              "      <th></th>\n",
              "      <th></th>\n",
              "      <th></th>\n",
              "    </tr>\n",
              "  </thead>\n",
              "  <tbody>\n",
              "    <tr>\n",
              "      <th>3</th>\n",
              "      <td>456.618750</td>\n",
              "      <td>20.427313</td>\n",
              "      <td>464.0</td>\n",
              "      <td>20.4</td>\n",
              "    </tr>\n",
              "    <tr>\n",
              "      <th>2</th>\n",
              "      <td>486.003125</td>\n",
              "      <td>23.295188</td>\n",
              "      <td>453.5</td>\n",
              "      <td>23.4</td>\n",
              "    </tr>\n",
              "    <tr>\n",
              "      <th>4</th>\n",
              "      <td>572.598125</td>\n",
              "      <td>23.330188</td>\n",
              "      <td>497.5</td>\n",
              "      <td>23.2</td>\n",
              "    </tr>\n",
              "    <tr>\n",
              "      <th>1</th>\n",
              "      <td>520.791875</td>\n",
              "      <td>23.407375</td>\n",
              "      <td>487.0</td>\n",
              "      <td>23.3</td>\n",
              "    </tr>\n",
              "    <tr>\n",
              "      <th>0</th>\n",
              "      <td>896.343125</td>\n",
              "      <td>24.266687</td>\n",
              "      <td>880.5</td>\n",
              "      <td>24.2</td>\n",
              "    </tr>\n",
              "  </tbody>\n",
              "</table>\n",
              "</div>"
            ],
            "text/plain": [
              "                          mean             median            \n",
              "                           CO2 Temperature    CO2 Temperature\n",
              "kmeans_constrained                                           \n",
              "3                   456.618750   20.427313  464.0        20.4\n",
              "2                   486.003125   23.295188  453.5        23.4\n",
              "4                   572.598125   23.330188  497.5        23.2\n",
              "1                   520.791875   23.407375  487.0        23.3\n",
              "0                   896.343125   24.266687  880.5        24.2"
            ]
          },
          "metadata": {},
          "execution_count": 86
        }
      ]
    },
    {
      "cell_type": "code",
      "metadata": {
        "colab": {
          "base_uri": "https://localhost:8080/",
          "height": 542
        },
        "id": "trW4gpU07ShQ",
        "outputId": "20e4bd5d-5546-4b35-aace-9fb010b523e9"
      },
      "source": [
        "df_2.pivot_table(values=['Temperature', 'CO2'], index='n_cluster_14'\n",
        "              # , columns='Month'\n",
        "               , aggfunc=['mean', 'median']).sort_values(('mean', 'Temperature'))"
      ],
      "execution_count": 88,
      "outputs": [
        {
          "output_type": "execute_result",
          "data": {
            "text/html": [
              "<div>\n",
              "<style scoped>\n",
              "    .dataframe tbody tr th:only-of-type {\n",
              "        vertical-align: middle;\n",
              "    }\n",
              "\n",
              "    .dataframe tbody tr th {\n",
              "        vertical-align: top;\n",
              "    }\n",
              "\n",
              "    .dataframe thead tr th {\n",
              "        text-align: left;\n",
              "    }\n",
              "\n",
              "    .dataframe thead tr:last-of-type th {\n",
              "        text-align: right;\n",
              "    }\n",
              "</style>\n",
              "<table border=\"1\" class=\"dataframe\">\n",
              "  <thead>\n",
              "    <tr>\n",
              "      <th></th>\n",
              "      <th colspan=\"2\" halign=\"left\">mean</th>\n",
              "      <th colspan=\"2\" halign=\"left\">median</th>\n",
              "    </tr>\n",
              "    <tr>\n",
              "      <th></th>\n",
              "      <th>CO2</th>\n",
              "      <th>Temperature</th>\n",
              "      <th>CO2</th>\n",
              "      <th>Temperature</th>\n",
              "    </tr>\n",
              "    <tr>\n",
              "      <th>n_cluster_14</th>\n",
              "      <th></th>\n",
              "      <th></th>\n",
              "      <th></th>\n",
              "      <th></th>\n",
              "    </tr>\n",
              "  </thead>\n",
              "  <tbody>\n",
              "    <tr>\n",
              "      <th>9</th>\n",
              "      <td>423.910891</td>\n",
              "      <td>20.065545</td>\n",
              "      <td>397.0</td>\n",
              "      <td>20.2</td>\n",
              "    </tr>\n",
              "    <tr>\n",
              "      <th>12</th>\n",
              "      <td>476.555921</td>\n",
              "      <td>20.105592</td>\n",
              "      <td>471.0</td>\n",
              "      <td>20.3</td>\n",
              "    </tr>\n",
              "    <tr>\n",
              "      <th>2</th>\n",
              "      <td>483.402802</td>\n",
              "      <td>20.844308</td>\n",
              "      <td>483.0</td>\n",
              "      <td>20.9</td>\n",
              "    </tr>\n",
              "    <tr>\n",
              "      <th>11</th>\n",
              "      <td>460.784854</td>\n",
              "      <td>21.569880</td>\n",
              "      <td>446.0</td>\n",
              "      <td>21.7</td>\n",
              "    </tr>\n",
              "    <tr>\n",
              "      <th>4</th>\n",
              "      <td>481.929638</td>\n",
              "      <td>22.727719</td>\n",
              "      <td>454.0</td>\n",
              "      <td>22.8</td>\n",
              "    </tr>\n",
              "    <tr>\n",
              "      <th>1</th>\n",
              "      <td>506.292683</td>\n",
              "      <td>23.206151</td>\n",
              "      <td>479.0</td>\n",
              "      <td>23.1</td>\n",
              "    </tr>\n",
              "    <tr>\n",
              "      <th>13</th>\n",
              "      <td>552.260054</td>\n",
              "      <td>23.317694</td>\n",
              "      <td>500.0</td>\n",
              "      <td>23.2</td>\n",
              "    </tr>\n",
              "    <tr>\n",
              "      <th>5</th>\n",
              "      <td>903.867886</td>\n",
              "      <td>23.835569</td>\n",
              "      <td>878.0</td>\n",
              "      <td>23.9</td>\n",
              "    </tr>\n",
              "    <tr>\n",
              "      <th>6</th>\n",
              "      <td>766.627778</td>\n",
              "      <td>23.853333</td>\n",
              "      <td>785.5</td>\n",
              "      <td>23.9</td>\n",
              "    </tr>\n",
              "    <tr>\n",
              "      <th>8</th>\n",
              "      <td>925.783646</td>\n",
              "      <td>23.923850</td>\n",
              "      <td>903.0</td>\n",
              "      <td>23.9</td>\n",
              "    </tr>\n",
              "    <tr>\n",
              "      <th>7</th>\n",
              "      <td>528.168975</td>\n",
              "      <td>23.998199</td>\n",
              "      <td>495.0</td>\n",
              "      <td>24.0</td>\n",
              "    </tr>\n",
              "    <tr>\n",
              "      <th>10</th>\n",
              "      <td>473.089779</td>\n",
              "      <td>24.039365</td>\n",
              "      <td>447.0</td>\n",
              "      <td>24.0</td>\n",
              "    </tr>\n",
              "    <tr>\n",
              "      <th>0</th>\n",
              "      <td>894.113772</td>\n",
              "      <td>24.501497</td>\n",
              "      <td>846.5</td>\n",
              "      <td>24.5</td>\n",
              "    </tr>\n",
              "    <tr>\n",
              "      <th>3</th>\n",
              "      <td>801.584450</td>\n",
              "      <td>24.953619</td>\n",
              "      <td>770.0</td>\n",
              "      <td>24.9</td>\n",
              "    </tr>\n",
              "  </tbody>\n",
              "</table>\n",
              "</div>"
            ],
            "text/plain": [
              "                    mean             median            \n",
              "                     CO2 Temperature    CO2 Temperature\n",
              "n_cluster_14                                           \n",
              "9             423.910891   20.065545  397.0        20.2\n",
              "12            476.555921   20.105592  471.0        20.3\n",
              "2             483.402802   20.844308  483.0        20.9\n",
              "11            460.784854   21.569880  446.0        21.7\n",
              "4             481.929638   22.727719  454.0        22.8\n",
              "1             506.292683   23.206151  479.0        23.1\n",
              "13            552.260054   23.317694  500.0        23.2\n",
              "5             903.867886   23.835569  878.0        23.9\n",
              "6             766.627778   23.853333  785.5        23.9\n",
              "8             925.783646   23.923850  903.0        23.9\n",
              "7             528.168975   23.998199  495.0        24.0\n",
              "10            473.089779   24.039365  447.0        24.0\n",
              "0             894.113772   24.501497  846.5        24.5\n",
              "3             801.584450   24.953619  770.0        24.9"
            ]
          },
          "metadata": {},
          "execution_count": 88
        }
      ]
    },
    {
      "cell_type": "code",
      "metadata": {
        "id": "LQ_4SCP27V9o"
      },
      "source": [
        ""
      ],
      "execution_count": null,
      "outputs": []
    }
  ]
}